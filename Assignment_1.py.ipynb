{
 "cells": [
  {
   "cell_type": "markdown",
   "metadata": {},
   "source": [
    "## Week 1: data and distributions"
   ]
  },
  {
   "cell_type": "markdown",
   "metadata": {},
   "source": [
    "The first step is to import all the different libraries I'll need. The steps.csv file is in American format. To make the dataframe readable, I need to convert it to an European format.\n",
    "\n",
    "The head of a dataframe gives me an overview of the data cleaning that might be necessary. "
   ]
  },
  {
   "cell_type": "code",
   "execution_count": 239,
   "metadata": {
    "scrolled": true
   },
   "outputs": [
    {
     "data": {
      "text/html": [
       "<div>\n",
       "<style scoped>\n",
       "    .dataframe tbody tr th:only-of-type {\n",
       "        vertical-align: middle;\n",
       "    }\n",
       "\n",
       "    .dataframe tbody tr th {\n",
       "        vertical-align: top;\n",
       "    }\n",
       "\n",
       "    .dataframe thead th {\n",
       "        text-align: right;\n",
       "    }\n",
       "</style>\n",
       "<table border=\"1\" class=\"dataframe\">\n",
       "  <thead>\n",
       "    <tr style=\"text-align: right;\">\n",
       "      <th></th>\n",
       "      <th>id</th>\n",
       "      <th>20-6-2013</th>\n",
       "      <th>21-6-2013</th>\n",
       "      <th>22-6-2013</th>\n",
       "      <th>23-6-2013</th>\n",
       "      <th>24-6-2013</th>\n",
       "      <th>25-6-2013</th>\n",
       "      <th>26-6-2013</th>\n",
       "      <th>27-6-2013</th>\n",
       "      <th>28-6-2013</th>\n",
       "      <th>...</th>\n",
       "      <th>4-5-2014</th>\n",
       "      <th>5-5-2014</th>\n",
       "      <th>6-5-2014</th>\n",
       "      <th>7-5-2014</th>\n",
       "      <th>8-5-2014</th>\n",
       "      <th>9-5-2014</th>\n",
       "      <th>10-5-2014</th>\n",
       "      <th>11-5-2014</th>\n",
       "      <th>12-5-2014</th>\n",
       "      <th>13-5-2014</th>\n",
       "    </tr>\n",
       "  </thead>\n",
       "  <tbody>\n",
       "    <tr>\n",
       "      <th>0</th>\n",
       "      <td>1</td>\n",
       "      <td>NaN</td>\n",
       "      <td>NaN</td>\n",
       "      <td>NaN</td>\n",
       "      <td>NaN</td>\n",
       "      <td>3941.0</td>\n",
       "      <td>15733.0</td>\n",
       "      <td>9929.0</td>\n",
       "      <td>12879.0</td>\n",
       "      <td>10541.0</td>\n",
       "      <td>...</td>\n",
       "      <td>NaN</td>\n",
       "      <td>NaN</td>\n",
       "      <td>NaN</td>\n",
       "      <td>NaN</td>\n",
       "      <td>NaN</td>\n",
       "      <td>NaN</td>\n",
       "      <td>NaN</td>\n",
       "      <td>NaN</td>\n",
       "      <td>NaN</td>\n",
       "      <td>NaN</td>\n",
       "    </tr>\n",
       "    <tr>\n",
       "      <th>1</th>\n",
       "      <td>2</td>\n",
       "      <td>NaN</td>\n",
       "      <td>NaN</td>\n",
       "      <td>10473.0</td>\n",
       "      <td>705.0</td>\n",
       "      <td>4287.0</td>\n",
       "      <td>5507.0</td>\n",
       "      <td>4024.0</td>\n",
       "      <td>3926.0</td>\n",
       "      <td>14595.0</td>\n",
       "      <td>...</td>\n",
       "      <td>NaN</td>\n",
       "      <td>NaN</td>\n",
       "      <td>NaN</td>\n",
       "      <td>NaN</td>\n",
       "      <td>NaN</td>\n",
       "      <td>NaN</td>\n",
       "      <td>NaN</td>\n",
       "      <td>NaN</td>\n",
       "      <td>NaN</td>\n",
       "      <td>NaN</td>\n",
       "    </tr>\n",
       "    <tr>\n",
       "      <th>2</th>\n",
       "      <td>3</td>\n",
       "      <td>NaN</td>\n",
       "      <td>11428.0</td>\n",
       "      <td>12523.0</td>\n",
       "      <td>2553.0</td>\n",
       "      <td>190.0</td>\n",
       "      <td>2164.0</td>\n",
       "      <td>8185.0</td>\n",
       "      <td>9630.0</td>\n",
       "      <td>8983.0</td>\n",
       "      <td>...</td>\n",
       "      <td>3914.0</td>\n",
       "      <td>4364.0</td>\n",
       "      <td>NaN</td>\n",
       "      <td>NaN</td>\n",
       "      <td>NaN</td>\n",
       "      <td>6227.0</td>\n",
       "      <td>4567.0</td>\n",
       "      <td>2567.0</td>\n",
       "      <td>1129.0</td>\n",
       "      <td>NaN</td>\n",
       "    </tr>\n",
       "    <tr>\n",
       "      <th>3</th>\n",
       "      <td>4</td>\n",
       "      <td>NaN</td>\n",
       "      <td>NaN</td>\n",
       "      <td>NaN</td>\n",
       "      <td>NaN</td>\n",
       "      <td>NaN</td>\n",
       "      <td>NaN</td>\n",
       "      <td>NaN</td>\n",
       "      <td>NaN</td>\n",
       "      <td>NaN</td>\n",
       "      <td>...</td>\n",
       "      <td>NaN</td>\n",
       "      <td>NaN</td>\n",
       "      <td>NaN</td>\n",
       "      <td>NaN</td>\n",
       "      <td>NaN</td>\n",
       "      <td>NaN</td>\n",
       "      <td>NaN</td>\n",
       "      <td>NaN</td>\n",
       "      <td>NaN</td>\n",
       "      <td>NaN</td>\n",
       "    </tr>\n",
       "    <tr>\n",
       "      <th>4</th>\n",
       "      <td>5</td>\n",
       "      <td>NaN</td>\n",
       "      <td>NaN</td>\n",
       "      <td>NaN</td>\n",
       "      <td>NaN</td>\n",
       "      <td>NaN</td>\n",
       "      <td>NaN</td>\n",
       "      <td>NaN</td>\n",
       "      <td>NaN</td>\n",
       "      <td>NaN</td>\n",
       "      <td>...</td>\n",
       "      <td>NaN</td>\n",
       "      <td>NaN</td>\n",
       "      <td>NaN</td>\n",
       "      <td>NaN</td>\n",
       "      <td>NaN</td>\n",
       "      <td>NaN</td>\n",
       "      <td>NaN</td>\n",
       "      <td>NaN</td>\n",
       "      <td>NaN</td>\n",
       "      <td>NaN</td>\n",
       "    </tr>\n",
       "  </tbody>\n",
       "</table>\n",
       "<p>5 rows × 329 columns</p>\n",
       "</div>"
      ],
      "text/plain": [
       "   id  20-6-2013  21-6-2013  22-6-2013  23-6-2013  24-6-2013  25-6-2013  \\\n",
       "0   1        NaN        NaN        NaN        NaN     3941.0    15733.0   \n",
       "1   2        NaN        NaN    10473.0      705.0     4287.0     5507.0   \n",
       "2   3        NaN    11428.0    12523.0     2553.0      190.0     2164.0   \n",
       "3   4        NaN        NaN        NaN        NaN        NaN        NaN   \n",
       "4   5        NaN        NaN        NaN        NaN        NaN        NaN   \n",
       "\n",
       "   26-6-2013  27-6-2013  28-6-2013  ...  4-5-2014  5-5-2014  6-5-2014  \\\n",
       "0     9929.0    12879.0    10541.0  ...       NaN       NaN       NaN   \n",
       "1     4024.0     3926.0    14595.0  ...       NaN       NaN       NaN   \n",
       "2     8185.0     9630.0     8983.0  ...    3914.0    4364.0       NaN   \n",
       "3        NaN        NaN        NaN  ...       NaN       NaN       NaN   \n",
       "4        NaN        NaN        NaN  ...       NaN       NaN       NaN   \n",
       "\n",
       "   7-5-2014  8-5-2014  9-5-2014  10-5-2014  11-5-2014  12-5-2014  13-5-2014  \n",
       "0       NaN       NaN       NaN        NaN        NaN        NaN        NaN  \n",
       "1       NaN       NaN       NaN        NaN        NaN        NaN        NaN  \n",
       "2       NaN       NaN    6227.0     4567.0     2567.0     1129.0        NaN  \n",
       "3       NaN       NaN       NaN        NaN        NaN        NaN        NaN  \n",
       "4       NaN       NaN       NaN        NaN        NaN        NaN        NaN  \n",
       "\n",
       "[5 rows x 329 columns]"
      ]
     },
     "execution_count": 239,
     "metadata": {},
     "output_type": "execute_result"
    }
   ],
   "source": [
    "import seaborn as sns # the library for plotting the data\n",
    "import pandas as pd #\"as pd\" means that we can use the abbreviation in commands\n",
    "import matplotlib.pyplot as plt #we need Matplotlib for setting the labels in the Seaborn graphs\n",
    "\n",
    "df1 = pd.read_csv('steps.csv', sep=';') # this seperation helps with converting the different CVS formats: American and European\n",
    "df1.head() # showing the first 5 rows"
   ]
  },
  {
   "cell_type": "markdown",
   "metadata": {},
   "source": [
    "Now the data is read in a pandas dataframe, the next step is to find the mean of steps. The mean is the value that is most common and a good measure of central tendency. First I calculate the mean, round the numbers and clean the outcomes. And then I transpose the dataframe so it's ready for plotting a graph. "
   ]
  },
  {
   "cell_type": "code",
   "execution_count": 240,
   "metadata": {},
   "outputs": [
    {
     "data": {
      "text/html": [
       "<div>\n",
       "<style scoped>\n",
       "    .dataframe tbody tr th:only-of-type {\n",
       "        vertical-align: middle;\n",
       "    }\n",
       "\n",
       "    .dataframe tbody tr th {\n",
       "        vertical-align: top;\n",
       "    }\n",
       "\n",
       "    .dataframe thead th {\n",
       "        text-align: right;\n",
       "    }\n",
       "</style>\n",
       "<table border=\"1\" class=\"dataframe\">\n",
       "  <thead>\n",
       "    <tr style=\"text-align: right;\">\n",
       "      <th></th>\n",
       "      <th>index</th>\n",
       "      <th>mean</th>\n",
       "    </tr>\n",
       "  </thead>\n",
       "  <tbody>\n",
       "    <tr>\n",
       "      <th>0</th>\n",
       "      <td>20-6-2013</td>\n",
       "      <td>3642.0</td>\n",
       "    </tr>\n",
       "    <tr>\n",
       "      <th>1</th>\n",
       "      <td>21-6-2013</td>\n",
       "      <td>9035.0</td>\n",
       "    </tr>\n",
       "    <tr>\n",
       "      <th>2</th>\n",
       "      <td>22-6-2013</td>\n",
       "      <td>10890.0</td>\n",
       "    </tr>\n",
       "    <tr>\n",
       "      <th>3</th>\n",
       "      <td>23-6-2013</td>\n",
       "      <td>7403.0</td>\n",
       "    </tr>\n",
       "    <tr>\n",
       "      <th>4</th>\n",
       "      <td>24-6-2013</td>\n",
       "      <td>8110.0</td>\n",
       "    </tr>\n",
       "    <tr>\n",
       "      <th>...</th>\n",
       "      <td>...</td>\n",
       "      <td>...</td>\n",
       "    </tr>\n",
       "    <tr>\n",
       "      <th>322</th>\n",
       "      <td>8-5-2014</td>\n",
       "      <td>7210.0</td>\n",
       "    </tr>\n",
       "    <tr>\n",
       "      <th>323</th>\n",
       "      <td>9-5-2014</td>\n",
       "      <td>9571.0</td>\n",
       "    </tr>\n",
       "    <tr>\n",
       "      <th>324</th>\n",
       "      <td>10-5-2014</td>\n",
       "      <td>7615.0</td>\n",
       "    </tr>\n",
       "    <tr>\n",
       "      <th>325</th>\n",
       "      <td>11-5-2014</td>\n",
       "      <td>6806.0</td>\n",
       "    </tr>\n",
       "    <tr>\n",
       "      <th>326</th>\n",
       "      <td>12-5-2014</td>\n",
       "      <td>7506.0</td>\n",
       "    </tr>\n",
       "  </tbody>\n",
       "</table>\n",
       "<p>327 rows × 2 columns</p>\n",
       "</div>"
      ],
      "text/plain": [
       "         index     mean\n",
       "0    20-6-2013   3642.0\n",
       "1    21-6-2013   9035.0\n",
       "2    22-6-2013  10890.0\n",
       "3    23-6-2013   7403.0\n",
       "4    24-6-2013   8110.0\n",
       "..         ...      ...\n",
       "322   8-5-2014   7210.0\n",
       "323   9-5-2014   9571.0\n",
       "324  10-5-2014   7615.0\n",
       "325  11-5-2014   6806.0\n",
       "326  12-5-2014   7506.0\n",
       "\n",
       "[327 rows x 2 columns]"
      ]
     },
     "execution_count": 240,
     "metadata": {},
     "output_type": "execute_result"
    }
   ],
   "source": [
    "#measuring the mean of steps per day\n",
    "mean_of_steps = pd.DataFrame(df1.mean().to_dict(),index=[df1.index.values[-1]])\n",
    "mean_of_steps = mean_of_steps.round() #round the number\n",
    "mean_of_steps.drop('id', axis=1, inplace=True) #remove column with id index (clean up)\n",
    "    \n",
    "#transpose the dataframe\n",
    "mean_of_steps = mean_of_steps.transpose()\n",
    "mean_of_steps = mean_of_steps.rename(columns={928: 'mean'})\n",
    "mean_of_steps_new = mean_of_steps['mean'].dropna().reset_index().copy()\n",
    "mean_of_steps_new"
   ]
  },
  {
   "cell_type": "markdown",
   "metadata": {},
   "source": [
    "To make sure the values (dates) are readible for plotting the graph, I need to convert it to datetime.\n",
    "\n",
    "Below you can find the first line graph with the mean on the y-axis for a number of dates. You can see that between 2014 january to april there are more registered steps. Some days in this period can reach almost 30000 steps. For the remaining months the average lies around the 5000 and 10000."
   ]
  },
  {
   "cell_type": "code",
   "execution_count": 241,
   "metadata": {},
   "outputs": [],
   "source": [
    "mean_of_steps_new['index'] = pd.to_datetime(mean_of_steps_new['index']) # convert to datetime"
   ]
  },
  {
   "cell_type": "code",
   "execution_count": 242,
   "metadata": {},
   "outputs": [
    {
     "data": {
      "text/plain": [
       "Text(0.5, 0.98, 'Mean of steps daily')"
      ]
     },
     "execution_count": 242,
     "metadata": {},
     "output_type": "execute_result"
    },
    {
     "data": {
      "image/png": "[encoded data removed]",
      "text/plain": [
       "<Figure size 360x360 with 1 Axes>"
      ]
     },
     "metadata": {},
     "output_type": "display_data"
    }
   ],
   "source": [
    "graph1 = sns.relplot(x=\"index\", y=\"mean\", kind=\"line\", data=mean_of_steps_new) \n",
    "graph1.fig.autofmt_xdate()\n",
    "\n",
    "graph1.fig.suptitle('Mean of steps daily') # adding a title"
   ]
  },
  {
   "cell_type": "markdown",
   "metadata": {},
   "source": [
    "Below I have some errors with displaying new graphs. I tried to first ad another graph to show the mean, but by most graphs I tried I get the error: module seaborn has no attribute displot. Most anwers on the internet tell me that the version of seaborn isn't right. But I couldn't seem to figure out how it worked, and anaconda has no updates either. "
   ]
  },
  {
   "cell_type": "code",
   "execution_count": 243,
   "metadata": {},
   "outputs": [],
   "source": [
    "# x = sns.displot(mean_of_steps_new, x=\"index\", y=\"mean\", kind=\"kde\")\n",
    "# x.fig.autofmt_xdate()\n",
    "\n",
    "# x.fig.suptitle('mean of steps daily')"
   ]
  },
  {
   "cell_type": "markdown",
   "metadata": {},
   "source": [
    "Here I want to try the next step of analyzing the data by finding the mean and the median. But here I have multiple problems. The same attribute error; seaborn has no attribute, but also the date time isn't working anymore, and in addition I know this might not be the best way as I now take the median of a mean. "
   ]
  },
  {
   "cell_type": "code",
   "execution_count": 244,
   "metadata": {},
   "outputs": [],
   "source": [
    "# mean_size = mean_of_steps_new['mean'].mean()\n",
    "# median_size = mean_of_steps_new['mean'].median()\n",
    "\n",
    "# sns.distplot(mean_of_steps_new, kde=False)\n",
    "# plt.title('Steps per day for all participants')\n",
    "# plt.axvline(median_size, 0, 100, color='green', label='median') #This adds a vertical line at x-position median_size, from y = 0 to y = 100 \n",
    "# plt.axvline(mean_size, 0, 100, color='blue', label='mean') \n",
    "# plt.legend() #This adds a legend. It works automatically because I've set the labels in the previous lines\n",
    "# plt.show()"
   ]
  },
  {
   "cell_type": "code",
   "execution_count": null,
   "metadata": {},
   "outputs": [],
   "source": []
  },
  {
   "cell_type": "code",
   "execution_count": null,
   "metadata": {},
   "outputs": [],
   "source": []
  }
 ],
 "metadata": {
  "kernelspec": {
   "display_name": "Python 3",
   "language": "python",
   "name": "python3"
  },
  "language_info": {
   "codemirror_mode": {
    "name": "ipython",
    "version": 3
   },
   "file_extension": ".py",
   "mimetype": "text/x-python",
   "name": "python",
   "nbconvert_exporter": "python",
   "pygments_lexer": "ipython3",
   "version": "3.8.3"
  }
 },
 "nbformat": 4,
 "nbformat_minor": 4
}
